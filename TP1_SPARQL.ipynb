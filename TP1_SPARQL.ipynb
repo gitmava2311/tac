{
 "cells": [
  {
   "cell_type": "markdown",
   "id": "fec136c4-d2ad-4fa5-9cc1-e1bc8383c10c",
   "metadata": {
    "tags": []
   },
   "source": [
    "# TP1 - Requête SPARQL vers Wikidata"
   ]
  },
  {
   "cell_type": "markdown",
   "id": "07b6225c-f042-4453-90f8-aac6404d7b40",
   "metadata": {},
   "source": [
    "## Imports"
   ]
  },
  {
   "cell_type": "code",
   "execution_count": 7,
   "id": "d0f0a212-17b3-471a-a071-213394fd91d7",
   "metadata": {},
   "outputs": [],
   "source": [
    "from datetime import datetime as dt\n",
    "from SPARQLWrapper import SPARQLWrapper, JSON"
   ]
  },
  {
   "cell_type": "markdown",
   "id": "54e6366e-5a9b-47a0-873d-77fa452ac63f",
   "metadata": {},
   "source": [
    "## Obtenir la liste des maladies infectieuses"
   ]
  },
  {
   "cell_type": "code",
   "execution_count": 13,
   "id": "e77c83aa-dd54-4372-a83d-53565f9d3408",
   "metadata": {},
   "outputs": [
    {
     "name": "stdout",
     "output_type": "stream",
     "text": [
      "\n",
      "113 Maladies infectieuses trouvées\n",
      "\n",
      "[{'disease': {'type': 'uri', 'value': 'http://www.wikidata.org/entity/Q10659178'}, 'diseaseLabel': {'type': 'literal', 'value': 'Q10659178'}}, {'disease': {'type': 'uri', 'value': 'http://www.wikidata.org/entity/Q11558841'}, 'diseaseLabel': {'type': 'literal', 'value': 'Q11558841'}}, {'disease': {'type': 'uri', 'value': 'http://www.wikidata.org/entity/Q25503254'}, 'diseaseLabel': {'type': 'literal', 'value': 'Q25503254'}}, {'disease': {'type': 'uri', 'value': 'http://www.wikidata.org/entity/Q55009413'}, 'diseaseLabel': {'type': 'literal', 'value': 'Q55009413'}}, {'disease': {'type': 'uri', 'value': 'http://www.wikidata.org/entity/Q55788465'}, 'diseaseLabel': {'type': 'literal', 'value': 'Q55788465'}}, {'disease': {'type': 'uri', 'value': 'http://www.wikidata.org/entity/Q164818'}, 'diseaseLabel': {'xml:lang': 'fr', 'type': 'literal', 'value': 'Fièvre Q'}, 'diseaseDescription': {'xml:lang': 'fr', 'type': 'literal', 'value': 'infection bactérienne pleuro pulmonaire'}}, {'disease': {'type': 'uri', 'value': 'http://www.wikidata.org/entity/Q3281270'}, 'diseaseLabel': {'xml:lang': 'fr', 'type': 'literal', 'value': 'Maladie de Dukes'}}, {'disease': {'type': 'uri', 'value': 'http://www.wikidata.org/entity/Q55785635'}, 'diseaseLabel': {'xml:lang': 'fr', 'type': 'literal', 'value': 'Maladie infectieuse associée à une épilepsie'}}, {'disease': {'type': 'uri', 'value': 'http://www.wikidata.org/entity/Q12826651'}, 'diseaseLabel': {'xml:lang': 'fr', 'type': 'literal', 'value': 'Manqa'}, 'diseaseDescription': {'xml:lang': 'fr', 'type': 'literal', 'value': 'Terme ouzbek pour une maladie infectieuse'}}, {'disease': {'type': 'uri', 'value': 'http://www.wikidata.org/entity/Q1807401'}, 'diseaseLabel': {'xml:lang': 'fr', 'type': 'literal', 'value': 'Sodoku'}}]\n"
     ]
    }
   ],
   "source": [
    "# Retrieve results from SPARQL\n",
    "endpoint = \"https://query.wikidata.org/bigdata/namespace/wdq/sparql\"\n",
    "sparql = SPARQLWrapper(endpoint)\n",
    "\n",
    "# P279 = instance of \n",
    "# Q18123741 = infectious disease\n",
    "# Q18553247 = primary bacterial infectious disease\n",
    "# P1120 = number of deaths \n",
    "# P1603 = number of cases\n",
    "\n",
    "statement = \"\"\"\n",
    "SELECT ?disease ?diseaseDescription ?diseaseLabel ?nombre_de_morts ?nombre_de_cas WHERE {\n",
    "  { ?disease wdt:P279 wd:Q18123741. }\n",
    "  UNION\n",
    "  { ?disease wdt:P279 wd:Q18553247. }\n",
    "  SERVICE wikibase:label { bd:serviceParam wikibase:language \"fr\". }\n",
    "  OPTIONAL { ?disease wdt:P1120 ?nombre_de_morts. }\n",
    "  OPTIONAL { ?disease wdt:P1603 ?nombre_de_cas. }\n",
    "}\n",
    "ORDER BY ?diseaseLabel\n",
    "\"\"\"\n",
    "sparql.setQuery(statement)\n",
    "sparql.setReturnFormat(JSON)\n",
    "results = sparql.query().convert()\n",
    "\n",
    "rows = results['results']['bindings']\n",
    "print(f\"\\n{len(rows)} Maladies infectieuses trouvées\\n\")\n",
    "print(rows[:10])"
   ]
  },
  {
   "cell_type": "markdown",
   "id": "f064091c-7dfc-4dfb-a211-dc7e1bb7658f",
   "metadata": {
    "tags": []
   },
   "source": [
    "## Filtrer pour n'afficher que le typhus"
   ]
  },
  {
   "cell_type": "code",
   "execution_count": 31,
   "id": "9aeb7f04-6e52-4ee0-87db-b6bd269b2f4e",
   "metadata": {},
   "outputs": [
    {
     "name": "stdout",
     "output_type": "stream",
     "text": [
      "Afficher les 10 premiers résultats:\n",
      "\n",
      "typhus | groupe de maladies | nombre de morts :inconnu | nombre de cas :inconnu | lien vers wikipedia : https://fr.wikipedia.org/wiki/typhus\n"
     ]
    }
   ],
   "source": [
    "name_filter = 'typhus'\n",
    "max_results = 10\n",
    "nb_morts_label='nombre de morts :'\n",
    "nb_cas_label='nombre de cas :'\n",
    "lien_label='lien vers wikipedia : '\n",
    "lien = \"https://fr.wikipedia.org/wiki/\" \n",
    "separation = \" | \"\n",
    "\n",
    "filtered_rows = [row for row in rows if name_filter in row['diseaseLabel']['value']]\n",
    "print(f\"Afficher les {max_results} premiers résultats:\\n\")\n",
    "for row in filtered_rows[:max_results]:\n",
    "    try:\n",
    "        nb_morts = (row['nombre_de_morts']['value'])\n",
    "        \n",
    "    except ValueError: # nombre de décès inconnu\n",
    "        nb_morts = \"inconnu\"\n",
    "    except KeyError: # nombre de décès inconnu\n",
    "        nb_morts = \"inconnu\"\n",
    "        \n",
    "    try:\n",
    "        nb_cas = (row['nombre_de_cas']['value'])\n",
    "        \n",
    "    except ValueError: # nombre de cas inconnu\n",
    "        nb_cas = \"inconnu\"\n",
    "    except KeyError: # nombre de cas inconnu\n",
    "        nb_cas = \"inconnu\"\n",
    "        \n",
    "        \n",
    "    print(f\"{row['diseaseLabel']['value']}{separation}{row['diseaseDescription']['value']}{separation}{nb_morts_label}{nb_morts}{separation}{nb_cas_label}{nb_cas}{separation}{lien_label}{lien}{row['diseaseLabel']['value']}\")"
   ]
  },
  {
   "cell_type": "code",
   "execution_count": null,
   "id": "8976dcc0-67d0-40d8-bd95-40a74a142465",
   "metadata": {},
   "outputs": [],
   "source": []
  }
 ],
 "metadata": {
  "kernelspec": {
   "display_name": "Python 3 (ipykernel)",
   "language": "python",
   "name": "python3"
  },
  "language_info": {
   "codemirror_mode": {
    "name": "ipython",
    "version": 3
   },
   "file_extension": ".py",
   "mimetype": "text/x-python",
   "name": "python",
   "nbconvert_exporter": "python",
   "pygments_lexer": "ipython3",
   "version": "3.9.7"
  }
 },
 "nbformat": 4,
 "nbformat_minor": 5
}
