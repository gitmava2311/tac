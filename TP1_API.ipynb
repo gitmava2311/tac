{
 "cells": [
  {
   "cell_type": "markdown",
   "metadata": {},
   "source": [
    "# APIs: requêtes HTTP"
   ]
  },
  {
   "cell_type": "markdown",
   "metadata": {},
   "source": [
    "## Imports"
   ]
  },
  {
   "cell_type": "code",
   "execution_count": 27,
   "metadata": {},
   "outputs": [],
   "source": [
    "import json\n",
    "import requests"
   ]
  },
  {
   "cell_type": "markdown",
   "metadata": {},
   "source": [
    "## Utiliser l'Open Data Wallonie Bruxelles  pour retrouver le nom actuel des écoles de la ville de Bruxelles sur base de l'adresse"
   ]
  },
  {
   "cell_type": "markdown",
   "metadata": {},
   "source": [
    "https://www.odwb.be/"
   ]
  },
  {
   "cell_type": "code",
   "execution_count": 31,
   "metadata": {},
   "outputs": [
    {
     "data": {
      "text/plain": [
       "{'nhits': 1,\n",
       " 'parameters': {'dataset': 'signaletique-fase',\n",
       "  'timezone': 'UTC',\n",
       "  'rows': 10,\n",
       "  'start': 0,\n",
       "  'format': 'json',\n",
       "  'lang': 'fr',\n",
       "  'facet': ['adresse_de_l_etablissement']},\n",
       " 'records': [{'datasetid': 'signaletique-fase',\n",
       "   'recordid': 'c5aaff0ca3f97eb9f2309debba5bd9e3b64f9ef8',\n",
       "   'fields': {'adresse_de_l_etablissement': 'Rue des Eburons n°46',\n",
       "    'commune_du_p_o': 'BRUXELLES',\n",
       "    'adresse_du_p_o': 'Boulevard Anspach n°6',\n",
       "    'ndeg_fase_de_l_etablissement': 99,\n",
       "    'type_d_enseignement': 'Primaire ordinaire',\n",
       "    'nom_de_l_etablissement': 'Ecole primaire des Eburons',\n",
       "    'code_postal_de_l_etablissement': '1000',\n",
       "    'localite_de_l_implantation': 'BRUXELLES',\n",
       "    'ndeg_bce_du_p_o': 207373429,\n",
       "    'reseau': 'Subventionné communal',\n",
       "    'code_postal_de_l_implantation': '1000',\n",
       "    'code_postal_du_p_o': '1000',\n",
       "    'localite_de_l_etablissement': 'BRUXELLES',\n",
       "    'ndeg_fase_du_p_o': 1057,\n",
       "    'latitude': 50.8482097,\n",
       "    'commune_de_l_implantation': 'BRUXELLES',\n",
       "    'numero_bce_de_l_etablissement': 2167215768,\n",
       "    'commune_de_l_etablissement': 'BRUXELLES',\n",
       "    'localite_du_p_o': 'BRUXELLES',\n",
       "    'nom_de_p_o': 'Ville de Bruxelles',\n",
       "    'arrondissement_administratif': 'BRUXELLES-CAPITALE',\n",
       "    'genre': 'Ordinaire',\n",
       "    'niveau': 'Fondamental',\n",
       "    'longitude': 4.3800634,\n",
       "    'ndeg_fase_de_l_implantation': 160,\n",
       "    'adresse_de_l_implantation': 'Rue des Eburons n°46',\n",
       "    'geolocalisation': [50.8482097, 4.3800634]},\n",
       "   'geometry': {'type': 'Point', 'coordinates': [4.3800634, 50.8482097]},\n",
       "   'record_timestamp': '2021-01-06T14:13:13.533000+00:00'}],\n",
       " 'facet_groups': [{'facets': [{'count': 1,\n",
       "     'path': 'Rue des Eburons n°46',\n",
       "     'state': 'refined',\n",
       "     'name': 'Rue des Eburons n°46'}],\n",
       "   'name': 'adresse_de_l_etablissement'}]}"
      ]
     },
     "execution_count": 31,
     "metadata": {},
     "output_type": "execute_result"
    }
   ],
   "source": [
    "\n",
    "\"\"\"Retrieve data from Open Data Wallonie Bruxelles of the school based on Rue des Eburons n°46\"\"\"\n",
    "\n",
    "url = \"https://www.odwb.be/api/records/1.0/search/?dataset=signaletique-fase&q=&lang=fr&facet=adresse_de_l_etablissement&refine.adresse_de_l_etablissement=Rue+des+Eburons+n%C2%B046\"\n",
    "\n",
    "data = {'format': 'json'}\n",
    "resp = requests.get(url, data)\n",
    "json_list = json.loads(resp.text)\n",
    "json_list\n"
   ]
  }
 ],
 "metadata": {
  "kernelspec": {
   "display_name": "Python 3 (ipykernel)",
   "language": "python",
   "name": "python3"
  },
  "language_info": {
   "codemirror_mode": {
    "name": "ipython",
    "version": 3
   },
   "file_extension": ".py",
   "mimetype": "text/x-python",
   "name": "python",
   "nbconvert_exporter": "python",
   "pygments_lexer": "ipython3",
   "version": "3.9.7"
  }
 },
 "nbformat": 4,
 "nbformat_minor": 4
}
